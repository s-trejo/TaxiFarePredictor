{
 "cells": [
  {
   "cell_type": "markdown",
   "id": "d744ccab-76c7-454d-b05b-6b05fcc897e1",
   "metadata": {},
   "source": [
    "# NYC Taxi Fare Prediction\n",
    "**Final Project for Introduction to Data Science**\n",
    "\n",
    "---\n",
    "\n",
    "### **Authors**\n",
    "- Joshua Arroyo\n",
    "- Samuel Trejo\n",
    "\n",
    "---\n",
    "\n",
    "### **Objective**\n",
    "This project aims to predict NYC taxi fares using machine learning techniques, focusing on data preprocessing, exploratory analysis, and building a neural network model to make accurate predictions.\n"
   ]
  },
  {
   "cell_type": "code",
   "execution_count": null,
   "id": "adad2770-5c4e-4385-bbd0-7f87e9811468",
   "metadata": {},
   "outputs": [],
   "source": [
    "import os\n",
    "import pandas as pd\n",
    "import numpy as np\n",
    "from sklearn.cluster import KMeans\n",
    "import matplotlib.pyplot as plt"
   ]
  },
  {
   "cell_type": "code",
   "execution_count": null,
   "id": "5fa5dbed",
   "metadata": {},
   "outputs": [],
   "source": [
    "# Specify the file path (Change bc cant upload data to github bc over 2gb)\n",
    "file_path = '/content/drive/My Drive/train.csv'\n",
    "\n",
    "# Read the CSV file\n",
    "train_data = pd.read_csv(file_path)\n",
    "\n",
    "# Display the dataframe\n",
    "print(train_data.head())"
   ]
  },
  {
   "cell_type": "code",
   "execution_count": null,
   "id": "2c35ad0f",
   "metadata": {},
   "outputs": [],
   "source": [
    "# Create function to validate pickup/dropoff within NYC\n",
    "def filter_rides_within_nyc(data):\n",
    "\n",
    "    # NYC long/lat range\n",
    "    nyc_lat_min = 40.4774\n",
    "    nyc_lat_max = 40.9176\n",
    "    nyc_lon_min = -74.2591\n",
    "    nyc_lon_max = -73.7004\n",
    "\n",
    "    # Ensure data btw range\n",
    "    valid_data = data[\n",
    "        (data['pickup_latitude'].between(nyc_lat_min, nyc_lat_max)) &\n",
    "        (data['pickup_longitude'].between(nyc_lon_min, nyc_lon_max)) &\n",
    "        (data['dropoff_latitude'].between(nyc_lat_min, nyc_lat_max)) &\n",
    "        (data['dropoff_longitude'].between(nyc_lon_min, nyc_lon_max))\n",
    "    ]\n",
    "\n",
    "    return valid_data\n",
    "\n",
    "# Clean null values\n",
    "train_data = train_data.dropna()\n",
    "\n",
    "# Remove invalid pickup/dropoff\n",
    "train_data = filter_rides_within_nyc(train_data)\n",
    "\n",
    "# Extract features from pickup_datetime, such as hour, day, weekday, and month\n",
    "train_data['pickup_datetime'] = pd.to_datetime(train_data['pickup_datetime'])       ## Format time data to standard (datetime format)\n",
    "train_data['pickup_hour'] = train_data['pickup_datetime'].dt.hour\n",
    "train_data['pickup_day'] = train_data['pickup_datetime'].dt.day\n",
    "train_data['pickup_weekday'] = train_data['pickup_datetime'].dt.weekday\n",
    "train_data['pickup_month'] = train_data['pickup_datetime'].dt.month\n"
   ]
  },
  {
   "cell_type": "code",
   "execution_count": null,
   "id": "65b29b25",
   "metadata": {},
   "outputs": [],
   "source": [
    "#Calculate the distance(km) between pickup and drop-off locations using the Haversine formula\n",
    "def haversine_distance(data):\n",
    "\n",
    "    # Earth radius in km\n",
    "    R = 6371.0\n",
    "\n",
    "    # Convert lat & long to radians\n",
    "    pickup_lat = np.radians(data['pickup_latitude'])\n",
    "    pickup_lon = np.radians(data['pickup_longitude'])\n",
    "    dropoff_lat = np.radians(data['dropoff_latitude'])\n",
    "    dropoff_lon = np.radians(data['dropoff_longitude'])\n",
    "\n",
    "    # Calculate the differences between latitudes and longitudes\n",
    "    delta_lat = dropoff_lat - pickup_lat\n",
    "    delta_lon = dropoff_lon - pickup_lon\n",
    "\n",
    "    # Calc using Haversine formula\n",
    "    a = np.sin(delta_lat / 2)**2 + np.cos(pickup_lat) * np.cos(dropoff_lat) * np.sin(delta_lon / 2)**2\n",
    "    c = 2 * np.arcsin(np.sqrt(a))\n",
    "\n",
    "    # Calculate the distance\n",
    "    data['distance_km'] = R * c\n",
    "\n",
    "    return data\n",
    "\n",
    "# Add distance column to data\n",
    "train_data = haversine_distance(train_data)"
   ]
  },
  {
   "cell_type": "code",
   "execution_count": null,
   "id": "306d7ce2",
   "metadata": {},
   "outputs": [],
   "source": [
    "# Combine pickup and dropoff coordinates into a single DataFrame with two columns\n",
    "coords = pd.concat([\n",
    "    train_data[['pickup_latitude', 'pickup_longitude']].rename(columns={'pickup_latitude': 'latitude', 'pickup_longitude': 'longitude'}),\n",
    "    train_data[['dropoff_latitude', 'dropoff_longitude']].rename(columns={'dropoff_latitude': 'latitude', 'dropoff_longitude': 'longitude'})\n",
    "], ignore_index=True)"
   ]
  },
  {
   "cell_type": "code",
   "execution_count": null,
   "id": "cff1272e",
   "metadata": {},
   "outputs": [],
   "source": [
    "# Import MiniBatchKMeans\n",
    "from sklearn.cluster import MiniBatchKMeans\n",
    "\n",
    "# Define the number of clusters\n",
    "n_clusters = 60\n",
    "\n",
    "# Initialize MiniBatchKMeans\n",
    "kmeans = MiniBatchKMeans(n_clusters=n_clusters, batch_size=10000)\n",
    "\n",
    "# Fit the model to the combined coordinates\n",
    "kmeans.fit(coords)\n",
    "\n",
    "# Get cluster labels\n",
    "cluster_labels = kmeans.labels_\n",
    "\n",
    "# Split the labels back into pickup and dropoff labels\n",
    "n_samples = len(train_data)\n",
    "train_data['pickup_cluster'] = cluster_labels[:n_samples]\n",
    "train_data['dropoff_cluster'] = cluster_labels[n_samples:]\n",
    "\n",
    "# Now, 'train_data' has the cluster labels added\n",
    "print(train_data.head())"
   ]
  }
 ],
 "metadata": {
  "kernelspec": {
   "display_name": "Python 3 (ipykernel)",
   "language": "python",
   "name": "python3"
  },
  "language_info": {
   "codemirror_mode": {
    "name": "ipython",
    "version": 3
   },
   "file_extension": ".py",
   "mimetype": "text/x-python",
   "name": "python",
   "nbconvert_exporter": "python",
   "pygments_lexer": "ipython3",
   "version": "3.11.5"
  }
 },
 "nbformat": 4,
 "nbformat_minor": 5
}
